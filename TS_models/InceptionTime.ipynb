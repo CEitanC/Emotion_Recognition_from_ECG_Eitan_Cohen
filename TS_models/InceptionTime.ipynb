{
 "cells": [
  {
   "cell_type": "code",
   "execution_count": null,
   "metadata": {},
   "outputs": [],
   "source": [
    "import torch\n",
    "torch.cuda.empty_cache()\n",
    "torch.cuda.memory_summary(device=None, abbreviated=False)\n",
    "from tsai.all import *\n",
    "import sklearn.metrics as skm\n",
    "import sys\n",
    "from sklearn.model_selection import train_test_split\n",
    "import numpy as np\n",
    "import random\n",
    "import os\n",
    "\n",
    "sys.path.append('../pre_processing_and_recover_network')\n",
    "import data_preprocessing\n",
    "my_setup()"
   ]
  },
  {
   "cell_type": "code",
   "execution_count": null,
   "metadata": {},
   "outputs": [],
   "source": [
    "# prepare the data\n",
    "def split_data_indexes(len_data, train_ratio):\n",
    "    indexes = list(range(len_data))\n",
    "    random.shuffle(indexes)\n",
    "    train_size = int(len_data * train_ratio)\n",
    "    train_indexes = indexes[:train_size]\n",
    "    test_indexes = indexes[train_size:]\n",
    "    return (train_indexes, test_indexes)\n",
    "\n",
    "swell_data = data_preprocessing.load_data(os.path.join(\"../pre_processing_and_recover_network/swell_dataset/\",\"swell_dict.npy\"))\n",
    "swell_data = data_preprocessing.swell_prepare_for_10fold(swell_data)\n",
    "swell_data[:, 1:4] -= 1\n",
    "x = swell_data[:, 4:]\n",
    "\n",
    "y_arousal = swell_data[:, 2]\n",
    "y_arousal = y_arousal.reshape(y_arousal.shape[0],)\n",
    "\n",
    "y_valence = swell_data[:, 3]\n",
    "y_valence = y_valence.reshape(y_valence.shape[0],)\n",
    "\n",
    "y_stress = swell_data[:, 1]\n",
    "y_stress = y_stress.reshape(y_stress.shape[0],)\n",
    "\n",
    "print(x.shape)\n",
    "print(type(x))\n",
    "print(y_stress.shape)\n",
    "print(y_valence.shape)\n",
    "print(y_arousal.shape)\n",
    "\n",
    "\n",
    "# set X to 3-Dim array\n",
    "x = np.array(x)\n",
    "x = np.expand_dims(x, axis=1)\n",
    "print(x.shape)\n",
    "filename = 'X_memmap.npy'\n",
    "X = np.memmap(filename, dtype='float32', mode='w+', shape=x.shape)\n",
    "X[:] = x[:]\n",
    "print(X.shape)\n",
    "print(type(X))\n",
    "\n",
    "filename = 'Y_arousal_memmap.npy'\n",
    "Y_arousal = np.memmap(filename, dtype='float32', mode='w+', shape=y_arousal.shape)\n",
    "Y_arousal[:] = y_arousal[:]\n",
    "\n",
    "filename = 'Y_valence_memmap.npy'\n",
    "Y_valence = np.memmap(filename, dtype='float32', mode='w+', shape=y_valence.shape)\n",
    "Y_valence[:] = y_valence[:]\n",
    "\n",
    "filename = 'Y_stress_memmap.npy'\n",
    "Y_stress = np.memmap(filename, dtype='float32', mode='w+', shape=y_stress.shape)\n",
    "Y_stress[:] = y_stress[:]\n",
    "print(Y_stress.shape)\n",
    "print(type(Y_stress))\n",
    "splits=split_data_indexes(X.shape[0],0.9)\n",
    "print(len(splits[0]))\n",
    "print(len(splits[1]))"
   ]
  },
  {
   "attachments": {},
   "cell_type": "markdown",
   "metadata": {},
   "source": [
    "**For randomal splits**"
   ]
  },
  {
   "cell_type": "code",
   "execution_count": null,
   "metadata": {},
   "outputs": [],
   "source": [
    "splits=np.load('./splits_A.npy',allow_pickle=True)"
   ]
  },
  {
   "attachments": {},
   "cell_type": "markdown",
   "metadata": {},
   "source": [
    "**For spliting subjests for Train and Test**"
   ]
  },
  {
   "cell_type": "code",
   "execution_count": null,
   "metadata": {},
   "outputs": [],
   "source": [
    "splits=np.load('./splits_B.npy',allow_pickle=True)"
   ]
  },
  {
   "cell_type": "markdown",
   "metadata": {},
   "source": [
    "**Prepare dataset loaders and model**"
   ]
  },
  {
   "cell_type": "code",
   "execution_count": 3,
   "metadata": {},
   "outputs": [
    {
     "data": {
      "text/plain": [
       "Path('models/S0.pth')"
      ]
     },
     "execution_count": 3,
     "metadata": {},
     "output_type": "execute_result"
    }
   ],
   "source": [
    "tfms  = [None, [Categorize()]]\n",
    "splits=(splits[0],splits[1])\n",
    "dsets_arousal = TSDatasets(X, Y_arousal, tfms=tfms, splits=splits, inplace=True)\n",
    "dsets_valence = TSDatasets(X, Y_valence, tfms=tfms, splits=splits, inplace=True)\n",
    "dsets_stress = TSDatasets(X, Y_stress, tfms=tfms, splits=splits, inplace=True)\n",
    "\n",
    "bs=128\n",
    "dls_stress = TSDataLoaders.from_dsets(dsets_stress.train, dsets_stress.valid, bs=bs, batch_tfms=[TSStandardize()], num_workers=0)\n",
    "dls_arousal = TSDataLoaders.from_dsets(dsets_arousal.train, dsets_arousal.valid, bs=bs, batch_tfms=[TSStandardize()], num_workers=0)\n",
    "dls_valence = TSDataLoaders.from_dsets(dsets_valence.train, dsets_valence.valid, bs=bs, batch_tfms=[TSStandardize()], num_workers=0)\n",
    "\n",
    "model_stress = InceptionTime(dls_stress.vars, dls_stress.c)\n",
    "model_arousal = InceptionTime(dls_arousal.vars, dls_arousal.c)\n",
    "model_valence = InceptionTime(dls_valence.vars, dls_valence.c)\n",
    "\n",
    "learn_stress = Learner(dls_stress, model_stress, metrics=accuracy)\n",
    "learn_arousal = Learner(dls_arousal, model_arousal, metrics=accuracy)\n",
    "learn_valence = Learner(dls_valence, model_valence, metrics=accuracy)\n",
    "\n",
    "learn_stress.save('S0')\n",
    "learn_arousal.save('S0')\n",
    "learn_valence.save('S0')"
   ]
  },
  {
   "cell_type": "code",
   "execution_count": null,
   "metadata": {},
   "outputs": [],
   "source": [
    "print(model_stress)"
   ]
  },
  {
   "cell_type": "markdown",
   "metadata": {},
   "source": [
    "**Train for stress**"
   ]
  },
  {
   "cell_type": "code",
   "execution_count": 6,
   "metadata": {},
   "outputs": [
    {
     "data": {
      "text/html": [
       "\n",
       "<style>\n",
       "    /* Turns off some styling */\n",
       "    progress {\n",
       "        /* gets rid of default border in Firefox and Opera. */\n",
       "        border: none;\n",
       "        /* Needs to be in here for Safari polyfill so background images work as expected. */\n",
       "        background-size: auto;\n",
       "    }\n",
       "    progress:not([value]), progress:not([value])::-webkit-progress-bar {\n",
       "        background: repeating-linear-gradient(45deg, #7e7e7e, #7e7e7e 10px, #5c5c5c 10px, #5c5c5c 20px);\n",
       "    }\n",
       "    .progress-bar-interrupted, .progress-bar-interrupted::-webkit-progress-bar {\n",
       "        background: #F44336;\n",
       "    }\n",
       "</style>\n"
      ],
      "text/plain": [
       "<IPython.core.display.HTML object>"
      ]
     },
     "metadata": {},
     "output_type": "display_data"
    },
    {
     "data": {
      "text/html": [],
      "text/plain": [
       "<IPython.core.display.HTML object>"
      ]
     },
     "metadata": {},
     "output_type": "display_data"
    },
    {
     "data": {
      "text/plain": [
       "SuggestedLRs(valley=0.0020892962347716093)"
      ]
     },
     "execution_count": 6,
     "metadata": {},
     "output_type": "execute_result"
    }
   ],
   "source": [
    "learn_stress.load('S0')\n",
    "learn_stress.lr_find()"
   ]
  },
  {
   "cell_type": "code",
   "execution_count": null,
   "metadata": {},
   "outputs": [],
   "source": [
    "learn_stress.fit_one_cycle(100,lr_max=1e-3)\n",
    "learn_stress.save('S1')"
   ]
  },
  {
   "cell_type": "code",
   "execution_count": 8,
   "metadata": {},
   "outputs": [],
   "source": [
    "learn_stress.save_all(path='./stress_inc', dls_fname='dls_stress', model_fname='model_stress', learner_fname='learner_stress')"
   ]
  },
  {
   "cell_type": "markdown",
   "metadata": {},
   "source": [
    "**Train for arousal**"
   ]
  },
  {
   "cell_type": "code",
   "execution_count": 9,
   "metadata": {},
   "outputs": [
    {
     "data": {
      "text/html": [
       "\n",
       "<style>\n",
       "    /* Turns off some styling */\n",
       "    progress {\n",
       "        /* gets rid of default border in Firefox and Opera. */\n",
       "        border: none;\n",
       "        /* Needs to be in here for Safari polyfill so background images work as expected. */\n",
       "        background-size: auto;\n",
       "    }\n",
       "    progress:not([value]), progress:not([value])::-webkit-progress-bar {\n",
       "        background: repeating-linear-gradient(45deg, #7e7e7e, #7e7e7e 10px, #5c5c5c 10px, #5c5c5c 20px);\n",
       "    }\n",
       "    .progress-bar-interrupted, .progress-bar-interrupted::-webkit-progress-bar {\n",
       "        background: #F44336;\n",
       "    }\n",
       "</style>\n"
      ],
      "text/plain": [
       "<IPython.core.display.HTML object>"
      ]
     },
     "metadata": {},
     "output_type": "display_data"
    },
    {
     "data": {
      "text/html": [],
      "text/plain": [
       "<IPython.core.display.HTML object>"
      ]
     },
     "metadata": {},
     "output_type": "display_data"
    },
    {
     "data": {
      "text/plain": [
       "SuggestedLRs(valley=0.0003311311302240938)"
      ]
     },
     "execution_count": 9,
     "metadata": {},
     "output_type": "execute_result"
    }
   ],
   "source": [
    "learn_arousal.load('S0')\n",
    "learn_arousal.lr_find()"
   ]
  },
  {
   "cell_type": "code",
   "execution_count": null,
   "metadata": {},
   "outputs": [],
   "source": [
    "learn_arousal.fit_one_cycle(100,lr_max=1e-4)\n",
    "learn_arousal.save('S1')"
   ]
  },
  {
   "cell_type": "code",
   "execution_count": 11,
   "metadata": {},
   "outputs": [],
   "source": [
    "learn_arousal.save_all(path='./arousal_inc', dls_fname='dls_arousal', model_fname='model_arousal', learner_fname='learner_arousal')"
   ]
  },
  {
   "cell_type": "markdown",
   "metadata": {},
   "source": [
    "**Train for valence**"
   ]
  },
  {
   "cell_type": "code",
   "execution_count": 12,
   "metadata": {},
   "outputs": [
    {
     "data": {
      "text/html": [
       "\n",
       "<style>\n",
       "    /* Turns off some styling */\n",
       "    progress {\n",
       "        /* gets rid of default border in Firefox and Opera. */\n",
       "        border: none;\n",
       "        /* Needs to be in here for Safari polyfill so background images work as expected. */\n",
       "        background-size: auto;\n",
       "    }\n",
       "    progress:not([value]), progress:not([value])::-webkit-progress-bar {\n",
       "        background: repeating-linear-gradient(45deg, #7e7e7e, #7e7e7e 10px, #5c5c5c 10px, #5c5c5c 20px);\n",
       "    }\n",
       "    .progress-bar-interrupted, .progress-bar-interrupted::-webkit-progress-bar {\n",
       "        background: #F44336;\n",
       "    }\n",
       "</style>\n"
      ],
      "text/plain": [
       "<IPython.core.display.HTML object>"
      ]
     },
     "metadata": {},
     "output_type": "display_data"
    },
    {
     "data": {
      "text/html": [],
      "text/plain": [
       "<IPython.core.display.HTML object>"
      ]
     },
     "metadata": {},
     "output_type": "display_data"
    },
    {
     "data": {
      "text/plain": [
       "SuggestedLRs(valley=0.001737800776027143)"
      ]
     },
     "execution_count": 12,
     "metadata": {},
     "output_type": "execute_result"
    }
   ],
   "source": [
    "learn_valence.load('S0')\n",
    "learn_valence.lr_find()"
   ]
  },
  {
   "cell_type": "code",
   "execution_count": null,
   "metadata": {},
   "outputs": [],
   "source": [
    "learn_valence.fit_one_cycle(100,lr_max=1e-3)\n",
    "learn_valence.save('S1')"
   ]
  },
  {
   "cell_type": "code",
   "execution_count": 14,
   "metadata": {},
   "outputs": [],
   "source": [
    "learn_valence.save_all(path='./valence_inc', dls_fname='dls_valence', model_fname='model_valence', learner_fname='learner_valence')"
   ]
  },
  {
   "attachments": {},
   "cell_type": "markdown",
   "metadata": {},
   "source": [
    "**Splits subjests to train and test-locally**"
   ]
  },
  {
   "cell_type": "code",
   "execution_count": 4,
   "metadata": {},
   "outputs": [],
   "source": [
    "def train_test_indexes_var2(ratio, objects):\n",
    "    # Split objects into train and test sets\n",
    "    num_test = int(len(set(objects)))-int(len(set(objects)) * ratio)\n",
    "    obj_list = list(set(objects))\n",
    "    random.shuffle(obj_list)\n",
    "    test_objs = obj_list[:num_test]\n",
    "    train_objs = obj_list[num_test:]\n",
    "\n",
    "    train_idxs = []\n",
    "    test_idxs = []\n",
    "\n",
    "    # Assign each object's samples to the appropriate set\n",
    "    for obj in train_objs:\n",
    "        obj_idxs = [i for i, o in enumerate(objects) if o == obj]\n",
    "        train_idxs.extend(obj_idxs)\n",
    "\n",
    "    for obj in test_objs:\n",
    "        obj_idxs = [i for i, o in enumerate(objects) if o == obj]\n",
    "        test_idxs.extend(obj_idxs)\n",
    "\n",
    "    # Shuffle the final train and test sets\n",
    "    random.shuffle(train_idxs)\n",
    "    random.shuffle(test_idxs)\n",
    "\n",
    "    return (train_idxs), (test_idxs)"
   ]
  },
  {
   "cell_type": "code",
   "execution_count": null,
   "metadata": {},
   "outputs": [],
   "source": [
    "# check train_test_indexes_var2()\n",
    "# not for each runnig acieve exaclty 9:1 train:test\n",
    "ratio = 0.9\n",
    "objects=swell_data[:,0]\n",
    "print(\"tot len is \", len(objects))\n",
    "print(\"trin len is \",ratio*len(objects))\n",
    "print(\"test len is \",len(objects)-ratio*len(objects))\n",
    "i=train_test_indexes_var2(ratio, objects)\n",
    "#print(\"train idx \",i[0])\n",
    "#print(\"test idx \",i[1])\n",
    "print(\"train obj:\")\n",
    "tr=[]\n",
    "for j in i[0]:\n",
    "  #print(objects[int(j)])\n",
    "  tr.append(objects[int(j)])\n",
    "tr_u=set(tr)\n",
    "\n",
    "print(\"test obj:\")\n",
    "te=[]\n",
    "for j in i[1]:\n",
    "  #print(objects[int(j)])\n",
    "  te.append(objects[int(j)])\n",
    "te_u=set(te)\n",
    "\n",
    "print(tr_u,len(tr))\n",
    "print(te_u,len(te))\n",
    "splits=i"
   ]
  },
  {
   "cell_type": "code",
   "execution_count": 6,
   "metadata": {},
   "outputs": [
    {
     "data": {
      "text/plain": [
       "Path('models/S0.pth')"
      ]
     },
     "execution_count": 6,
     "metadata": {},
     "output_type": "execute_result"
    }
   ],
   "source": [
    "tfms  = [None, [Categorize()]]\n",
    "\n",
    "dsets_arousal = TSDatasets(X, Y_arousal, tfms=tfms, splits=splits, inplace=True)\n",
    "dsets_valence = TSDatasets(X, Y_valence, tfms=tfms, splits=splits, inplace=True)\n",
    "dsets_stress = TSDatasets(X, Y_stress, tfms=tfms, splits=splits, inplace=True)\n",
    "\n",
    "bs=128\n",
    "dls_stress = TSDataLoaders.from_dsets(dsets_stress.train, dsets_stress.valid, bs=bs, batch_tfms=[TSStandardize()], num_workers=0)\n",
    "dls_arousal = TSDataLoaders.from_dsets(dsets_arousal.train, dsets_arousal.valid, bs=bs, batch_tfms=[TSStandardize()], num_workers=0)\n",
    "dls_valence = TSDataLoaders.from_dsets(dsets_valence.train, dsets_valence.valid, bs=bs, batch_tfms=[TSStandardize()], num_workers=0)\n",
    "\n",
    "model_stress = InceptionTime(dls_stress.vars, dls_stress.c)\n",
    "model_arousal = InceptionTime(dls_arousal.vars, dls_arousal.c)\n",
    "model_valence = InceptionTime(dls_valence.vars, dls_valence.c)\n",
    "\n",
    "learn_stress = Learner(dls_stress, model_stress, metrics=accuracy)\n",
    "learn_arousal = Learner(dls_arousal, model_arousal, metrics=accuracy)\n",
    "learn_valence = Learner(dls_valence, model_valence, metrics=accuracy)\n",
    "\n",
    "learn_stress.save('S0')\n",
    "learn_arousal.save('S0')\n",
    "learn_valence.save('S0')"
   ]
  },
  {
   "cell_type": "code",
   "execution_count": 7,
   "metadata": {},
   "outputs": [
    {
     "data": {
      "text/html": [
       "\n",
       "<style>\n",
       "    /* Turns off some styling */\n",
       "    progress {\n",
       "        /* gets rid of default border in Firefox and Opera. */\n",
       "        border: none;\n",
       "        /* Needs to be in here for Safari polyfill so background images work as expected. */\n",
       "        background-size: auto;\n",
       "    }\n",
       "    progress:not([value]), progress:not([value])::-webkit-progress-bar {\n",
       "        background: repeating-linear-gradient(45deg, #7e7e7e, #7e7e7e 10px, #5c5c5c 10px, #5c5c5c 20px);\n",
       "    }\n",
       "    .progress-bar-interrupted, .progress-bar-interrupted::-webkit-progress-bar {\n",
       "        background: #F44336;\n",
       "    }\n",
       "</style>\n"
      ],
      "text/plain": [
       "<IPython.core.display.HTML object>"
      ]
     },
     "metadata": {},
     "output_type": "display_data"
    },
    {
     "data": {
      "text/html": [],
      "text/plain": [
       "<IPython.core.display.HTML object>"
      ]
     },
     "metadata": {},
     "output_type": "display_data"
    },
    {
     "data": {
      "text/plain": [
       "SuggestedLRs(valley=0.0010000000474974513)"
      ]
     },
     "execution_count": 7,
     "metadata": {},
     "output_type": "execute_result"
    }
   ],
   "source": [
    "learn_stress.load('S0')\n",
    "learn_stress.lr_find()"
   ]
  },
  {
   "cell_type": "code",
   "execution_count": null,
   "metadata": {},
   "outputs": [],
   "source": [
    "learn_stress.fit_one_cycle(100,lr_max=1e-3)\n",
    "learn_stress.save('S1')"
   ]
  }
 ],
 "metadata": {
  "kernelspec": {
   "display_name": "Python 3.8.5 64-bit",
   "name": "python385jvsc74a57bd0906877fa3b0a2f49e197f8df9a8e615c458bb20b42717d7901a87c548a873a9a"
  },
  "language_info": {
   "codemirror_mode": {
    "name": "ipython",
    "version": 3
   },
   "file_extension": ".py",
   "mimetype": "text/x-python",
   "name": "python",
   "nbconvert_exporter": "python",
   "pygments_lexer": "ipython3",
   "version": "3.8.5"
  },
  "metadata": {
   "interpreter": {
    "hash": "906877fa3b0a2f49e197f8df9a8e615c458bb20b42717d7901a87c548a873a9a"
   }
  },
  "orig_nbformat": 3
 },
 "nbformat": 4,
 "nbformat_minor": 2
}
